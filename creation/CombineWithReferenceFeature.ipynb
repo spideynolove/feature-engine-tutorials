{
 "cells": [
  {
   "cell_type": "markdown",
   "metadata": {},
   "source": [
    "\n",
    "## Feature Creation: Combine with reference feature\n",
    "\n",
    "The CombineWithReferenceFeature() applies combines a group of variables with a group of reference variables utilising mathematical operations ['sub', 'div','add','mul'], returning one or more additional features as a result.\n",
    "\n",
    "For this demonstration, we use the UCI Wine Quality Dataset.\n",
    "\n",
    "The data is publicly available on [UCI repository](https://archive.ics.uci.edu/ml/datasets/Wine+Quality)\n",
    "\n",
    "P. Cortez, A. Cerdeira, F. Almeida, T. Matos and J. Reis. Modeling wine preferences by data mining from physicochemical properties. In Decision Support Systems, Elsevier, 47(4):547-553, 2009."
   ]
  },
  {
   "cell_type": "code",
   "execution_count": null,
   "metadata": {},
   "outputs": [],
   "source": [
    "import pandas as pd\n",
    "# import numpy as np\n",
    "import matplotlib.pyplot as plt\n",
    "import seaborn as sns\n",
    "\n",
    "from sklearn.model_selection import train_test_split\n",
    "from sklearn.linear_model import LogisticRegression\n",
    "from sklearn.metrics import (\n",
    "    accuracy_score,\n",
    "    roc_curve,\n",
    "    # roc_auc_score,\n",
    "    classification_report,\n",
    "    confusion_matrix,\n",
    ")\n",
    "from sklearn.pipeline import Pipeline as pipe\n",
    "from sklearn.preprocessing import StandardScaler\n",
    "\n",
    "from feature_engine.creation import RelativeFeatures\n",
    "\n",
    "pd.set_option('display.max_columns', None)"
   ]
  },
  {
   "cell_type": "code",
   "execution_count": null,
   "metadata": {
    "scrolled": true
   },
   "outputs": [],
   "source": [
    "# Read data\n",
    "data = pd.read_csv('../data/winequality-red.csv', sep=';')\n",
    "\n",
    "data.head()"
   ]
  },
  {
   "cell_type": "markdown",
   "metadata": {},
   "source": [
    "**This Data contains 11 features, all numerical, with no missing values.**"
   ]
  },
  {
   "cell_type": "code",
   "execution_count": null,
   "metadata": {},
   "outputs": [],
   "source": [
    "# Let's transform the Target, i.e Wine Quality into a binary classification problem:\n",
    "\n",
    "bins = [0,5,10]\n",
    "\n",
    "labels = [0, 1] # 'low'=0, 'high'=1\n",
    "\n",
    "data['quality_range']= pd.cut(x=data['quality'], bins=bins, labels=labels)\n",
    "\n",
    "data[['quality_range','quality']].head(5)"
   ]
  },
  {
   "cell_type": "code",
   "execution_count": null,
   "metadata": {},
   "outputs": [],
   "source": [
    "data.shape"
   ]
  },
  {
   "cell_type": "code",
   "execution_count": null,
   "metadata": {},
   "outputs": [],
   "source": [
    "# drop original target\n",
    "\n",
    "data.drop('quality', axis=1, inplace = True)"
   ]
  },
  {
   "cell_type": "code",
   "execution_count": null,
   "metadata": {},
   "outputs": [],
   "source": [
    "data.shape"
   ]
  },
  {
   "cell_type": "markdown",
   "metadata": {},
   "source": [
    "### Sub and Div Combinators:\n",
    "\n",
    "Let's create two new variables:\n",
    "\n",
    "- non_free_sulfur_dioxide = total sulfur dioxide - free sulfur dioxide\n",
    "- percentage_free_sulfur = free sulfur dioxide / total sulfur dioxide"
   ]
  },
  {
   "cell_type": "code",
   "execution_count": null,
   "metadata": {},
   "outputs": [],
   "source": [
    "import operator"
   ]
  },
  {
   "cell_type": "code",
   "execution_count": null,
   "metadata": {},
   "outputs": [],
   "source": [
    "def binary_add(x):\n",
    "    return x.iloc[0] + x.iloc[1]\n",
    "\n",
    "\n",
    "def binary_sub(x):\n",
    "    return x.iloc[0] - x.iloc[1]\n",
    "\n",
    "\n",
    "def binary_div(x):\n",
    "    return x.iloc[0] / x.iloc[1]\n",
    "\n",
    "\n",
    "def binary_mul(x):\n",
    "    return x.iloc[0] * x.iloc[1]"
   ]
  },
  {
   "cell_type": "code",
   "execution_count": null,
   "metadata": {},
   "outputs": [],
   "source": [
    "\n",
    "# this transformer substracts free sulfur from total sulfur\n",
    "sub_with_reference_feature = RelativeFeatures(\n",
    "    variables=['total sulfur dioxide'],\n",
    "    reference=['free sulfur dioxide'],\n",
    "    func=['sub'],\n",
    ")\n",
    "\n",
    "# this transformer divides free sulfur by total sulfur\n",
    "div_with_reference_feature = RelativeFeatures(\n",
    "    variables=['free sulfur dioxide'],\n",
    "    reference=['total sulfur dioxide'],\n",
    "    func=['div'],\n",
    ")\n"
   ]
  },
  {
   "cell_type": "code",
   "execution_count": null,
   "metadata": {},
   "outputs": [],
   "source": [
    "# Fit the Sub Combinator on training data\n",
    "sub_with_reference_feature.fit(data)"
   ]
  },
  {
   "cell_type": "code",
   "execution_count": null,
   "metadata": {},
   "outputs": [],
   "source": [
    "# perform the substraction\n",
    "data_t = sub_with_reference_feature.transform(data)"
   ]
  },
  {
   "cell_type": "code",
   "execution_count": null,
   "metadata": {},
   "outputs": [],
   "source": [
    "# perform division\n",
    "# We can combine both steps in a single call with \".fit_transform()\" method\n",
    "data_t = div_with_reference_feature.fit_transform(data_t)"
   ]
  },
  {
   "cell_type": "code",
   "execution_count": null,
   "metadata": {},
   "outputs": [],
   "source": [
    "# Note the additional variables at the end of the dataframe\n",
    "\n",
    "data_t.head()"
   ]
  },
  {
   "cell_type": "markdown",
   "metadata": {},
   "source": [
    "#### Combine with more than 1 operation\n",
    "\n",
    "We can also combine the variables with more than 1 mathematical operation. And the transformer has the option to create variable names automatically.\n",
    "\n",
    "Here we will create the following variables:\n",
    "\n",
    "- ratio_fixed_to_volatile_acidity = fixed acidity / volatile acidity\n",
    "- total_acidity = fixed acidity + volatile acidity"
   ]
  },
  {
   "cell_type": "code",
   "execution_count": null,
   "metadata": {},
   "outputs": [],
   "source": [
    "# Create the Combinator\n",
    "\n",
    "multiple_combinator = RelativeFeatures(\n",
    "    variables=['fixed acidity'],\n",
    "    reference=['volatile acidity'],\n",
    "    func=['div', 'add'],\n",
    ")"
   ]
  },
  {
   "cell_type": "code",
   "execution_count": null,
   "metadata": {},
   "outputs": [],
   "source": [
    "# Fit the Combinator to the training data\n",
    "\n",
    "multiple_combinator.fit(data_t)"
   ]
  },
  {
   "cell_type": "code",
   "execution_count": null,
   "metadata": {},
   "outputs": [],
   "source": [
    "# Transform the data\n",
    "\n",
    "data_t = multiple_combinator.transform(data_t)"
   ]
  },
  {
   "cell_type": "code",
   "execution_count": null,
   "metadata": {},
   "outputs": [],
   "source": [
    "# Note the additional variables at the end of the dataframe\n",
    "\n",
    "data_t.head()"
   ]
  },
  {
   "cell_type": "markdown",
   "metadata": {},
   "source": [
    "### Pipeline Example\n",
    "\n",
    "We can put all these transformations into single pipeline:\n",
    "\n",
    "Create new variables scale features and train a Logistic Regression model to predict the wine quality range.\n",
    "\n",
    "See more on how to use Feature-engine within Scikit-learn Pipelines in these [examples](https://github.com/solegalli/feature_engine/tree/master/examples/Pipelines)"
   ]
  },
  {
   "cell_type": "code",
   "execution_count": null,
   "metadata": {},
   "outputs": [],
   "source": [
    "X = data.drop(['quality_range'], axis=1)\n",
    "\n",
    "y = data.quality_range\n",
    "\n",
    "X_train, X_test, y_train, y_test = train_test_split(X,\n",
    "                                                    y,\n",
    "                                                    test_size=0.1,\n",
    "                                                    random_state=0,\n",
    "                                                    shuffle=True,\n",
    "                                                    stratify=y\n",
    "                                                    )\n",
    "X_train.shape, X_test.shape"
   ]
  },
  {
   "cell_type": "code",
   "execution_count": null,
   "metadata": {},
   "outputs": [],
   "source": [
    "value_pipe = pipe([\n",
    "    \n",
    "    # Create new features\n",
    "    ('subtraction', RelativeFeatures(\n",
    "        variables=['total sulfur dioxide'],\n",
    "        reference=['free sulfur dioxide'],\n",
    "        func=['sub'],\n",
    "    )\n",
    "    ),\n",
    "\n",
    "    ('ratio', RelativeFeatures(\n",
    "        variables=['free sulfur dioxide'],\n",
    "        reference=['total sulfur dioxide'],\n",
    "        func=['div'],\n",
    "    )\n",
    "    ),\n",
    "\n",
    "    ('acidity', RelativeFeatures(\n",
    "        variables=['fixed acidity'],\n",
    "        reference=['volatile acidity'],\n",
    "        func=['div', 'add'],\n",
    "    )\n",
    "    ),\n",
    "\n",
    "    # scale features\n",
    "    ('scaler', StandardScaler()),\n",
    "\n",
    "    # Logistic Regression\n",
    "    ('LogisticRegression', LogisticRegression())\n",
    "])"
   ]
  },
  {
   "cell_type": "code",
   "execution_count": null,
   "metadata": {},
   "outputs": [],
   "source": [
    "value_pipe.fit(X_train, y_train)"
   ]
  },
  {
   "cell_type": "code",
   "execution_count": null,
   "metadata": {},
   "outputs": [],
   "source": [
    "pred_train = value_pipe.predict(X_train)\n",
    "pred_test = value_pipe.predict(X_test)"
   ]
  },
  {
   "cell_type": "code",
   "execution_count": null,
   "metadata": {},
   "outputs": [],
   "source": [
    "print('Logistic Regression Model train accuracy score: {}'.format(\n",
    "    accuracy_score(y_train, pred_train)))\n",
    "\n",
    "print()\n",
    "\n",
    "print('Logistic Regression Model test accuracy score: {}'.format(\n",
    "    accuracy_score(y_test, pred_test)))"
   ]
  },
  {
   "cell_type": "code",
   "execution_count": null,
   "metadata": {},
   "outputs": [],
   "source": [
    "print('Logistic Regression Model test classification report: \\n\\n {}'.format(\n",
    "    classification_report(y_test, pred_test)))"
   ]
  },
  {
   "cell_type": "code",
   "execution_count": null,
   "metadata": {},
   "outputs": [],
   "source": [
    "score = round(accuracy_score(y_test, pred_test), 3)\n",
    "cm = confusion_matrix(y_test, pred_test)\n",
    "\n",
    "sns.heatmap(cm, annot=True, fmt=\".0f\")\n",
    "plt.xlabel('Predicted Values')\n",
    "plt.ylabel('Actual Values')\n",
    "plt.title('Accuracy Score: {0}'.format(score), size=15)\n",
    "plt.show()"
   ]
  },
  {
   "cell_type": "code",
   "execution_count": null,
   "metadata": {},
   "outputs": [],
   "source": [
    "# Predict probabilities for the test data\n",
    "\n",
    "probs = value_pipe.predict_proba(X_test)[:, 1]\n",
    "\n",
    "# Get the ROC Curve\n",
    "fpr, tpr, thresholds = roc_curve(y_test, probs)\n",
    "\n",
    "# Plot ROC curve\n",
    "plt.figure(figsize=(8, 5))\n",
    "plt.plot([0, 1], [0, 1], 'k--')\n",
    "plt.plot(fpr, tpr)\n",
    "plt.xlabel('False Positive Rate = 1 - Specificity Score')\n",
    "plt.ylabel('True Positive Rate  = Recall Score')\n",
    "plt.title('ROC Curve')\n",
    "plt.show()"
   ]
  }
 ],
 "metadata": {
  "kernelspec": {
   "display_name": "mainenv",
   "language": "python",
   "name": "python3"
  },
  "language_info": {
   "codemirror_mode": {
    "name": "ipython",
    "version": 3
   },
   "file_extension": ".py",
   "mimetype": "text/x-python",
   "name": "python",
   "nbconvert_exporter": "python",
   "pygments_lexer": "ipython3",
   "version": "3.10.17"
  },
  "toc": {
   "base_numbering": 1,
   "nav_menu": {},
   "number_sections": true,
   "sideBar": true,
   "skip_h1_title": false,
   "title_cell": "Table of Contents",
   "title_sidebar": "Contents",
   "toc_cell": false,
   "toc_position": {},
   "toc_section_display": true,
   "toc_window_display": false
  }
 },
 "nbformat": 4,
 "nbformat_minor": 4
}
